{
 "cells": [
  {
   "cell_type": "code",
   "execution_count": 4,
   "metadata": {},
   "outputs": [],
   "source": [
    "import sys\n",
    "import os\n",
    "import numpy as np\n",
    "import pandas as pd\n",
    "from collections import Counter\n",
    "from operator import itemgetter"
   ]
  },
  {
   "cell_type": "code",
   "execution_count": 5,
   "metadata": {},
   "outputs": [],
   "source": [
    "def rawdata(map_file):\n",
    "    lis_dicts=[]\n",
    "    pDict = {}\n",
    "    mDict = {}\n",
    "    infile = open(map_file, 'r')\n",
    "    line = infile.readline()\n",
    "    while line != '':\n",
    "        fields = line.split()\n",
    "        col1 = str(fields[0])   #strand; note: if sequencing was performed without barcode reading, the column numbering is changed\n",
    "        col2 = int(fields[1])   #left-most position\n",
    "        col3 = str(fields[2])   #footprint seq\n",
    "        length = len(col3)      #footprint length        \n",
    "        if col1 == '+': #for plus strand\n",
    "            pend5 = col2 + 1                #Bowtie uses 0-based offset: transform to 1-based and subtract 1st base \n",
    "            if pend5 in pDict:\n",
    "                pDict[pend5] += 1.0\n",
    "            else:\n",
    "                pDict[pend5] = 1.0 \n",
    "        elif col1 == '-':               #for minus strand\n",
    "            end3 = col2 + 1         #for minus strand, Bowtie gives leftmost position (3' end) with zero-based numbering\n",
    "            mend5 = end3 + length - 1\n",
    "            if mend5 in mDict:\n",
    "                mDict[mend5] += 1.0\n",
    "            else:\n",
    "                mDict[mend5] = 1.0 \n",
    "        else:\n",
    "                pass\n",
    "        line = infile.readline()\n",
    "    for pend5 in range(1,4641653):          \n",
    "        if pend5 not in pDict:\n",
    "            pDict[pend5] = 0\n",
    "    p_list=[(p, pDict[p]) for p in sorted(pDict)]\n",
    "    for mend5 in range(1,4641653):          \n",
    "        if mend5 not in mDict:\n",
    "            mDict[mend5] = 0\n",
    "    m_list=[(m, mDict[m]) for m in sorted(mDict)]\n",
    "    infile.close()\n",
    "    lis_dicts.append(p_list)\n",
    "    lis_dicts.append(m_list)\n",
    "    return lis_dicts\n",
    "\n",
    "def get_local_max_signal(lis_dicts):\n",
    "    lis_pause_lis=[]\n",
    "    for lis in lis_dicts:\n",
    "        numeric_list=[(int(pos),float(count))for pos,count in lis]\n",
    "        trunc_list=numeric_list[0:100000]\n",
    "        pause_list=[]\n",
    "        win_side=25\n",
    "        for i in range(win_side,100000-win_side): #range from list_m[0](which equals pos 1 in genome) to list_m[4639651] (not including list_m[4639651] by default)\n",
    "            window=trunc_list[(i-win_side):(i+win_side+1)] #1st window: list_m[0]-list_m[51](not including list[51] by default)\n",
    "            dic_freq=Counter(mem[1] for mem in window) #count the number oftimes each signal appear in window. goal: filter regions with multiple equal local max signal\n",
    "            win_count_lis=[count for pos,count in window]\n",
    "            win_count_mean=np.array(win_count_lis).mean()\n",
    "            win_count_std=np.array(win_count_lis).std()\n",
    "            win_count_max=max(window,key=itemgetter(1))[1]\n",
    "            if window[win_side][1]==win_count_max and dic_freq[window[win_side][1]]==1 and win_count_max>=(win_count_mean + win_count_std*5):  #identify window max for signal of reads.\n",
    "                pause_list.append(window[win_side])\n",
    "            else:\n",
    "                pass\n",
    "        lis_pause_lis.append(pause_list)\n",
    "    return lis_pause_lis\n"
   ]
  },
  {
   "cell_type": "code",
   "execution_count": 6,
   "metadata": {},
   "outputs": [],
   "source": [
    "map_file=os.path.join('../input_files_NETseq/wt_mmc_NET.map')\n",
    "lis_dicts=rawdata(map_file)"
   ]
  },
  {
   "cell_type": "code",
   "execution_count": 8,
   "metadata": {},
   "outputs": [],
   "source": [
    "lis_pause_lis=get_local_max_signal(lis_dicts)\n",
    "#print (lis_pause_lis[1][0:100])"
   ]
  }
 ],
 "metadata": {
  "kernelspec": {
   "display_name": "Python 3",
   "language": "python",
   "name": "python3"
  },
  "language_info": {
   "codemirror_mode": {
    "name": "ipython",
    "version": 3
   },
   "file_extension": ".py",
   "mimetype": "text/x-python",
   "name": "python",
   "nbconvert_exporter": "python",
   "pygments_lexer": "ipython3",
   "version": "3.7.0"
  }
 },
 "nbformat": 4,
 "nbformat_minor": 2
}
